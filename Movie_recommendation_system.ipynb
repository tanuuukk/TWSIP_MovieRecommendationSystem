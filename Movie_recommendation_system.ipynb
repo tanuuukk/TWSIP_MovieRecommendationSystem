{
  "cells": [
    {
      "cell_type": "markdown",
      "metadata": {
        "id": "view-in-github",
        "colab_type": "text"
      },
      "source": [
        "<a href=\"https://colab.research.google.com/github/tanuuukk/movie-recommander-system-/blob/main/Movie_recommendation_system.ipynb\" target=\"_parent\"><img src=\"https://colab.research.google.com/assets/colab-badge.svg\" alt=\"Open In Colab\"/></a>"
      ]
    },
    {
      "cell_type": "code",
      "execution_count": null,
      "id": "034dd410",
      "metadata": {
        "id": "034dd410",
        "outputId": "7c080a9a-1b56-450c-ff8c-696f2d152e0d"
      },
      "outputs": [
        {
          "data": {
            "text/html": [
              "<div>\n",
              "<style scoped>\n",
              "    .dataframe tbody tr th:only-of-type {\n",
              "        vertical-align: middle;\n",
              "    }\n",
              "\n",
              "    .dataframe tbody tr th {\n",
              "        vertical-align: top;\n",
              "    }\n",
              "\n",
              "    .dataframe thead th {\n",
              "        text-align: right;\n",
              "    }\n",
              "</style>\n",
              "<table border=\"1\" class=\"dataframe\">\n",
              "  <thead>\n",
              "    <tr style=\"text-align: right;\">\n",
              "      <th></th>\n",
              "      <th>adult</th>\n",
              "      <th>belongs_to_collection</th>\n",
              "      <th>budget</th>\n",
              "      <th>genres</th>\n",
              "      <th>homepage</th>\n",
              "      <th>id</th>\n",
              "      <th>imdb_id</th>\n",
              "      <th>original_language</th>\n",
              "      <th>original_title</th>\n",
              "      <th>overview</th>\n",
              "      <th>popularity</th>\n",
              "      <th>poster_path</th>\n",
              "      <th>production_companies</th>\n",
              "      <th>production_countries</th>\n",
              "      <th>release_date</th>\n",
              "      <th>revenue</th>\n",
              "      <th>runtime</th>\n",
              "      <th>spoken_languages</th>\n",
              "      <th>status</th>\n",
              "      <th>tagline</th>\n",
              "      <th>title</th>\n",
              "      <th>video</th>\n",
              "      <th>vote_average</th>\n",
              "      <th>vote_count</th>\n",
              "    </tr>\n",
              "  </thead>\n",
              "  <tbody>\n",
              "    <tr>\n",
              "      <th>0</th>\n",
              "      <td>False</td>\n",
              "      <td>{'id': 10194, 'name': 'Toy Story Collection', ...</td>\n",
              "      <td>30000000</td>\n",
              "      <td>[{'id': 16, 'name': 'Animation'}, {'id': 35, '...</td>\n",
              "      <td>http://toystory.disney.com/toy-story</td>\n",
              "      <td>862</td>\n",
              "      <td>tt0114709</td>\n",
              "      <td>en</td>\n",
              "      <td>Toy Story</td>\n",
              "      <td>Led by Woody, Andy's toys live happily in his ...</td>\n",
              "      <td>21.946943</td>\n",
              "      <td>/rhIRbceoE9lR4veEXuwCC2wARtG.jpg</td>\n",
              "      <td>[{'name': 'Pixar Animation Studios', 'id': 3}]</td>\n",
              "      <td>[{'iso_3166_1': 'US', 'name': 'United States o...</td>\n",
              "      <td>1995-10-30</td>\n",
              "      <td>373554033.0</td>\n",
              "      <td>81.0</td>\n",
              "      <td>[{'iso_639_1': 'en', 'name': 'English'}]</td>\n",
              "      <td>Released</td>\n",
              "      <td>NaN</td>\n",
              "      <td>Toy Story</td>\n",
              "      <td>False</td>\n",
              "      <td>7.7</td>\n",
              "      <td>5415.0</td>\n",
              "    </tr>\n",
              "    <tr>\n",
              "      <th>1</th>\n",
              "      <td>False</td>\n",
              "      <td>NaN</td>\n",
              "      <td>65000000</td>\n",
              "      <td>[{'id': 12, 'name': 'Adventure'}, {'id': 14, '...</td>\n",
              "      <td>NaN</td>\n",
              "      <td>8844</td>\n",
              "      <td>tt0113497</td>\n",
              "      <td>en</td>\n",
              "      <td>Jumanji</td>\n",
              "      <td>When siblings Judy and Peter discover an encha...</td>\n",
              "      <td>17.015539</td>\n",
              "      <td>/vzmL6fP7aPKNKPRTFnZmiUfciyV.jpg</td>\n",
              "      <td>[{'name': 'TriStar Pictures', 'id': 559}, {'na...</td>\n",
              "      <td>[{'iso_3166_1': 'US', 'name': 'United States o...</td>\n",
              "      <td>1995-12-15</td>\n",
              "      <td>262797249.0</td>\n",
              "      <td>104.0</td>\n",
              "      <td>[{'iso_639_1': 'en', 'name': 'English'}, {'iso...</td>\n",
              "      <td>Released</td>\n",
              "      <td>Roll the dice and unleash the excitement!</td>\n",
              "      <td>Jumanji</td>\n",
              "      <td>False</td>\n",
              "      <td>6.9</td>\n",
              "      <td>2413.0</td>\n",
              "    </tr>\n",
              "    <tr>\n",
              "      <th>2</th>\n",
              "      <td>False</td>\n",
              "      <td>{'id': 119050, 'name': 'Grumpy Old Men Collect...</td>\n",
              "      <td>0</td>\n",
              "      <td>[{'id': 10749, 'name': 'Romance'}, {'id': 35, ...</td>\n",
              "      <td>NaN</td>\n",
              "      <td>15602</td>\n",
              "      <td>tt0113228</td>\n",
              "      <td>en</td>\n",
              "      <td>Grumpier Old Men</td>\n",
              "      <td>A family wedding reignites the ancient feud be...</td>\n",
              "      <td>11.7129</td>\n",
              "      <td>/6ksm1sjKMFLbO7UY2i6G1ju9SML.jpg</td>\n",
              "      <td>[{'name': 'Warner Bros.', 'id': 6194}, {'name'...</td>\n",
              "      <td>[{'iso_3166_1': 'US', 'name': 'United States o...</td>\n",
              "      <td>1995-12-22</td>\n",
              "      <td>0.0</td>\n",
              "      <td>101.0</td>\n",
              "      <td>[{'iso_639_1': 'en', 'name': 'English'}]</td>\n",
              "      <td>Released</td>\n",
              "      <td>Still Yelling. Still Fighting. Still Ready for...</td>\n",
              "      <td>Grumpier Old Men</td>\n",
              "      <td>False</td>\n",
              "      <td>6.5</td>\n",
              "      <td>92.0</td>\n",
              "    </tr>\n",
              "  </tbody>\n",
              "</table>\n",
              "</div>"
            ],
            "text/plain": [
              "   adult                              belongs_to_collection    budget  \\\n",
              "0  False  {'id': 10194, 'name': 'Toy Story Collection', ...  30000000   \n",
              "1  False                                                NaN  65000000   \n",
              "2  False  {'id': 119050, 'name': 'Grumpy Old Men Collect...         0   \n",
              "\n",
              "                                              genres  \\\n",
              "0  [{'id': 16, 'name': 'Animation'}, {'id': 35, '...   \n",
              "1  [{'id': 12, 'name': 'Adventure'}, {'id': 14, '...   \n",
              "2  [{'id': 10749, 'name': 'Romance'}, {'id': 35, ...   \n",
              "\n",
              "                               homepage     id    imdb_id original_language  \\\n",
              "0  http://toystory.disney.com/toy-story    862  tt0114709                en   \n",
              "1                                   NaN   8844  tt0113497                en   \n",
              "2                                   NaN  15602  tt0113228                en   \n",
              "\n",
              "     original_title                                           overview  \\\n",
              "0         Toy Story  Led by Woody, Andy's toys live happily in his ...   \n",
              "1           Jumanji  When siblings Judy and Peter discover an encha...   \n",
              "2  Grumpier Old Men  A family wedding reignites the ancient feud be...   \n",
              "\n",
              "  popularity                       poster_path  \\\n",
              "0  21.946943  /rhIRbceoE9lR4veEXuwCC2wARtG.jpg   \n",
              "1  17.015539  /vzmL6fP7aPKNKPRTFnZmiUfciyV.jpg   \n",
              "2    11.7129  /6ksm1sjKMFLbO7UY2i6G1ju9SML.jpg   \n",
              "\n",
              "                                production_companies  \\\n",
              "0     [{'name': 'Pixar Animation Studios', 'id': 3}]   \n",
              "1  [{'name': 'TriStar Pictures', 'id': 559}, {'na...   \n",
              "2  [{'name': 'Warner Bros.', 'id': 6194}, {'name'...   \n",
              "\n",
              "                                production_countries release_date  \\\n",
              "0  [{'iso_3166_1': 'US', 'name': 'United States o...   1995-10-30   \n",
              "1  [{'iso_3166_1': 'US', 'name': 'United States o...   1995-12-15   \n",
              "2  [{'iso_3166_1': 'US', 'name': 'United States o...   1995-12-22   \n",
              "\n",
              "       revenue  runtime                                   spoken_languages  \\\n",
              "0  373554033.0     81.0           [{'iso_639_1': 'en', 'name': 'English'}]   \n",
              "1  262797249.0    104.0  [{'iso_639_1': 'en', 'name': 'English'}, {'iso...   \n",
              "2          0.0    101.0           [{'iso_639_1': 'en', 'name': 'English'}]   \n",
              "\n",
              "     status                                            tagline  \\\n",
              "0  Released                                                NaN   \n",
              "1  Released          Roll the dice and unleash the excitement!   \n",
              "2  Released  Still Yelling. Still Fighting. Still Ready for...   \n",
              "\n",
              "              title  video  vote_average  vote_count  \n",
              "0         Toy Story  False           7.7      5415.0  \n",
              "1           Jumanji  False           6.9      2413.0  \n",
              "2  Grumpier Old Men  False           6.5        92.0  "
            ]
          },
          "execution_count": 50,
          "metadata": {},
          "output_type": "execute_result"
        }
      ],
      "source": [
        "# Importing pandas\n",
        "import pandas as pd\n",
        "\n",
        "# Loading Movies Metadata\n",
        "metadata = pd.read_csv( r\"C:\\Users\\Lenovo\\Desktop\\Movie recomandation system\\movies_metadata.csv\",low_memory=False)\n",
        "\n",
        "metadata.head(3)"
      ]
    },
    {
      "cell_type": "code",
      "execution_count": null,
      "id": "009781d3",
      "metadata": {
        "id": "009781d3",
        "outputId": "f9d7f053-df54-41e6-fe90-affce289f052"
      },
      "outputs": [
        {
          "name": "stdout",
          "output_type": "stream",
          "text": [
            "<bound method NDFrame._add_numeric_operations.<locals>.sum of        adult  belongs_to_collection  budget  genres  homepage     id  imdb_id  \\\n",
            "0      False                  False   False   False     False  False    False   \n",
            "1      False                   True   False   False      True  False    False   \n",
            "2      False                  False   False   False      True  False    False   \n",
            "3      False                   True   False   False      True  False    False   \n",
            "4      False                  False   False   False      True  False    False   \n",
            "...      ...                    ...     ...     ...       ...    ...      ...   \n",
            "45461  False                   True   False   False     False  False    False   \n",
            "45462  False                   True   False   False      True  False    False   \n",
            "45463  False                   True   False   False      True  False    False   \n",
            "45464  False                   True   False   False      True  False    False   \n",
            "45465  False                   True   False   False      True  False    False   \n",
            "\n",
            "       original_language  original_title  overview  popularity  poster_path  \\\n",
            "0                  False           False     False       False        False   \n",
            "1                  False           False     False       False        False   \n",
            "2                  False           False     False       False        False   \n",
            "3                  False           False     False       False        False   \n",
            "4                  False           False     False       False        False   \n",
            "...                  ...             ...       ...         ...          ...   \n",
            "45461              False           False     False       False        False   \n",
            "45462              False           False     False       False        False   \n",
            "45463              False           False     False       False        False   \n",
            "45464              False           False     False       False        False   \n",
            "45465              False           False     False       False        False   \n",
            "\n",
            "       production_companies  production_countries  release_date  revenue  \\\n",
            "0                     False                 False         False    False   \n",
            "1                     False                 False         False    False   \n",
            "2                     False                 False         False    False   \n",
            "3                     False                 False         False    False   \n",
            "4                     False                 False         False    False   \n",
            "...                     ...                   ...           ...      ...   \n",
            "45461                 False                 False          True    False   \n",
            "45462                 False                 False         False    False   \n",
            "45463                 False                 False         False    False   \n",
            "45464                 False                 False         False    False   \n",
            "45465                 False                 False         False    False   \n",
            "\n",
            "       runtime  spoken_languages  status  tagline  title  video  vote_average  \\\n",
            "0        False             False   False     True  False  False         False   \n",
            "1        False             False   False    False  False  False         False   \n",
            "2        False             False   False    False  False  False         False   \n",
            "3        False             False   False    False  False  False         False   \n",
            "4        False             False   False    False  False  False         False   \n",
            "...        ...               ...     ...      ...    ...    ...           ...   \n",
            "45461    False             False   False    False  False  False         False   \n",
            "45462    False             False   False     True  False  False         False   \n",
            "45463    False             False   False    False  False  False         False   \n",
            "45464    False             False   False     True  False  False         False   \n",
            "45465    False             False   False     True  False  False         False   \n",
            "\n",
            "       vote_count  \n",
            "0           False  \n",
            "1           False  \n",
            "2           False  \n",
            "3           False  \n",
            "4           False  \n",
            "...           ...  \n",
            "45461       False  \n",
            "45462       False  \n",
            "45463       False  \n",
            "45464       False  \n",
            "45465       False  \n",
            "\n",
            "[45466 rows x 24 columns]>\n"
          ]
        }
      ],
      "source": [
        "# to check for the null values in each column\n",
        "null_values=metadata.isnull().sum\n",
        "print(null_values)"
      ]
    },
    {
      "cell_type": "code",
      "execution_count": null,
      "id": "e992f4f8",
      "metadata": {
        "id": "e992f4f8",
        "outputId": "94581926-f679-44b0-c5a7-6112fbaa4b56"
      },
      "outputs": [
        {
          "data": {
            "text/html": [
              "<div>\n",
              "<style scoped>\n",
              "    .dataframe tbody tr th:only-of-type {\n",
              "        vertical-align: middle;\n",
              "    }\n",
              "\n",
              "    .dataframe tbody tr th {\n",
              "        vertical-align: top;\n",
              "    }\n",
              "\n",
              "    .dataframe thead th {\n",
              "        text-align: right;\n",
              "    }\n",
              "</style>\n",
              "<table border=\"1\" class=\"dataframe\">\n",
              "  <thead>\n",
              "    <tr style=\"text-align: right;\">\n",
              "      <th></th>\n",
              "      <th>adult</th>\n",
              "      <th>belongs_to_collection</th>\n",
              "      <th>budget</th>\n",
              "      <th>genres</th>\n",
              "      <th>homepage</th>\n",
              "      <th>id</th>\n",
              "      <th>imdb_id</th>\n",
              "      <th>original_language</th>\n",
              "      <th>original_title</th>\n",
              "      <th>overview</th>\n",
              "      <th>popularity</th>\n",
              "      <th>poster_path</th>\n",
              "      <th>production_companies</th>\n",
              "      <th>production_countries</th>\n",
              "      <th>release_date</th>\n",
              "      <th>revenue</th>\n",
              "      <th>runtime</th>\n",
              "      <th>spoken_languages</th>\n",
              "      <th>status</th>\n",
              "      <th>tagline</th>\n",
              "      <th>title</th>\n",
              "      <th>video</th>\n",
              "      <th>vote_average</th>\n",
              "      <th>vote_count</th>\n",
              "    </tr>\n",
              "  </thead>\n",
              "  <tbody>\n",
              "    <tr>\n",
              "      <th>0</th>\n",
              "      <td>False</td>\n",
              "      <td>{'id': 10194, 'name': 'Toy Story Collection', ...</td>\n",
              "      <td>30000000</td>\n",
              "      <td>[{'id': 16, 'name': 'Animation'}, {'id': 35, '...</td>\n",
              "      <td>http://toystory.disney.com/toy-story</td>\n",
              "      <td>862</td>\n",
              "      <td>tt0114709</td>\n",
              "      <td>en</td>\n",
              "      <td>Toy Story</td>\n",
              "      <td>Led by Woody, Andy's toys live happily in his ...</td>\n",
              "      <td>21.946943</td>\n",
              "      <td>/rhIRbceoE9lR4veEXuwCC2wARtG.jpg</td>\n",
              "      <td>[{'name': 'Pixar Animation Studios', 'id': 3}]</td>\n",
              "      <td>[{'iso_3166_1': 'US', 'name': 'United States o...</td>\n",
              "      <td>1995-10-30</td>\n",
              "      <td>373554033.0</td>\n",
              "      <td>81.0</td>\n",
              "      <td>[{'iso_639_1': 'en', 'name': 'English'}]</td>\n",
              "      <td>Released</td>\n",
              "      <td>NaN</td>\n",
              "      <td>Toy Story</td>\n",
              "      <td>False</td>\n",
              "      <td>7.7</td>\n",
              "      <td>5415.0</td>\n",
              "    </tr>\n",
              "    <tr>\n",
              "      <th>1</th>\n",
              "      <td>False</td>\n",
              "      <td>NaN</td>\n",
              "      <td>65000000</td>\n",
              "      <td>[{'id': 12, 'name': 'Adventure'}, {'id': 14, '...</td>\n",
              "      <td>NaN</td>\n",
              "      <td>8844</td>\n",
              "      <td>tt0113497</td>\n",
              "      <td>en</td>\n",
              "      <td>Jumanji</td>\n",
              "      <td>When siblings Judy and Peter discover an encha...</td>\n",
              "      <td>17.015539</td>\n",
              "      <td>/vzmL6fP7aPKNKPRTFnZmiUfciyV.jpg</td>\n",
              "      <td>[{'name': 'TriStar Pictures', 'id': 559}, {'na...</td>\n",
              "      <td>[{'iso_3166_1': 'US', 'name': 'United States o...</td>\n",
              "      <td>1995-12-15</td>\n",
              "      <td>262797249.0</td>\n",
              "      <td>104.0</td>\n",
              "      <td>[{'iso_639_1': 'en', 'name': 'English'}, {'iso...</td>\n",
              "      <td>Released</td>\n",
              "      <td>Roll the dice and unleash the excitement!</td>\n",
              "      <td>Jumanji</td>\n",
              "      <td>False</td>\n",
              "      <td>6.9</td>\n",
              "      <td>2413.0</td>\n",
              "    </tr>\n",
              "    <tr>\n",
              "      <th>2</th>\n",
              "      <td>False</td>\n",
              "      <td>{'id': 119050, 'name': 'Grumpy Old Men Collect...</td>\n",
              "      <td>0</td>\n",
              "      <td>[{'id': 10749, 'name': 'Romance'}, {'id': 35, ...</td>\n",
              "      <td>NaN</td>\n",
              "      <td>15602</td>\n",
              "      <td>tt0113228</td>\n",
              "      <td>en</td>\n",
              "      <td>Grumpier Old Men</td>\n",
              "      <td>A family wedding reignites the ancient feud be...</td>\n",
              "      <td>11.7129</td>\n",
              "      <td>/6ksm1sjKMFLbO7UY2i6G1ju9SML.jpg</td>\n",
              "      <td>[{'name': 'Warner Bros.', 'id': 6194}, {'name'...</td>\n",
              "      <td>[{'iso_3166_1': 'US', 'name': 'United States o...</td>\n",
              "      <td>1995-12-22</td>\n",
              "      <td>0.0</td>\n",
              "      <td>101.0</td>\n",
              "      <td>[{'iso_639_1': 'en', 'name': 'English'}]</td>\n",
              "      <td>Released</td>\n",
              "      <td>Still Yelling. Still Fighting. Still Ready for...</td>\n",
              "      <td>Grumpier Old Men</td>\n",
              "      <td>False</td>\n",
              "      <td>6.5</td>\n",
              "      <td>92.0</td>\n",
              "    </tr>\n",
              "  </tbody>\n",
              "</table>\n",
              "</div>"
            ],
            "text/plain": [
              "   adult                              belongs_to_collection    budget  \\\n",
              "0  False  {'id': 10194, 'name': 'Toy Story Collection', ...  30000000   \n",
              "1  False                                                NaN  65000000   \n",
              "2  False  {'id': 119050, 'name': 'Grumpy Old Men Collect...         0   \n",
              "\n",
              "                                              genres  \\\n",
              "0  [{'id': 16, 'name': 'Animation'}, {'id': 35, '...   \n",
              "1  [{'id': 12, 'name': 'Adventure'}, {'id': 14, '...   \n",
              "2  [{'id': 10749, 'name': 'Romance'}, {'id': 35, ...   \n",
              "\n",
              "                               homepage     id    imdb_id original_language  \\\n",
              "0  http://toystory.disney.com/toy-story    862  tt0114709                en   \n",
              "1                                   NaN   8844  tt0113497                en   \n",
              "2                                   NaN  15602  tt0113228                en   \n",
              "\n",
              "     original_title                                           overview  \\\n",
              "0         Toy Story  Led by Woody, Andy's toys live happily in his ...   \n",
              "1           Jumanji  When siblings Judy and Peter discover an encha...   \n",
              "2  Grumpier Old Men  A family wedding reignites the ancient feud be...   \n",
              "\n",
              "  popularity                       poster_path  \\\n",
              "0  21.946943  /rhIRbceoE9lR4veEXuwCC2wARtG.jpg   \n",
              "1  17.015539  /vzmL6fP7aPKNKPRTFnZmiUfciyV.jpg   \n",
              "2    11.7129  /6ksm1sjKMFLbO7UY2i6G1ju9SML.jpg   \n",
              "\n",
              "                                production_companies  \\\n",
              "0     [{'name': 'Pixar Animation Studios', 'id': 3}]   \n",
              "1  [{'name': 'TriStar Pictures', 'id': 559}, {'na...   \n",
              "2  [{'name': 'Warner Bros.', 'id': 6194}, {'name'...   \n",
              "\n",
              "                                production_countries release_date  \\\n",
              "0  [{'iso_3166_1': 'US', 'name': 'United States o...   1995-10-30   \n",
              "1  [{'iso_3166_1': 'US', 'name': 'United States o...   1995-12-15   \n",
              "2  [{'iso_3166_1': 'US', 'name': 'United States o...   1995-12-22   \n",
              "\n",
              "       revenue  runtime                                   spoken_languages  \\\n",
              "0  373554033.0     81.0           [{'iso_639_1': 'en', 'name': 'English'}]   \n",
              "1  262797249.0    104.0  [{'iso_639_1': 'en', 'name': 'English'}, {'iso...   \n",
              "2          0.0    101.0           [{'iso_639_1': 'en', 'name': 'English'}]   \n",
              "\n",
              "     status                                            tagline  \\\n",
              "0  Released                                                NaN   \n",
              "1  Released          Roll the dice and unleash the excitement!   \n",
              "2  Released  Still Yelling. Still Fighting. Still Ready for...   \n",
              "\n",
              "              title  video  vote_average  vote_count  \n",
              "0         Toy Story  False           7.7      5415.0  \n",
              "1           Jumanji  False           6.9      2413.0  \n",
              "2  Grumpier Old Men  False           6.5        92.0  "
            ]
          },
          "execution_count": 52,
          "metadata": {},
          "output_type": "execute_result"
        }
      ],
      "source": [
        "#removing duplicates\n",
        "metadata=metadata.drop_duplicates()\n",
        "metadata.head(3)"
      ]
    },
    {
      "cell_type": "code",
      "execution_count": null,
      "id": "996829ac",
      "metadata": {
        "id": "996829ac",
        "outputId": "1efd26bf-0b0c-4d1f-b220-ea2bccff0367"
      },
      "outputs": [
        {
          "name": "stdout",
          "output_type": "stream",
          "text": [
            "5.618310850956142\n"
          ]
        }
      ],
      "source": [
        "#mean of vote average column\n",
        "vote_average_mean = metadata['vote_average'].mean()\n",
        "print(vote_average_mean)"
      ]
    },
    {
      "cell_type": "code",
      "execution_count": null,
      "id": "00f1210a",
      "metadata": {
        "id": "00f1210a",
        "outputId": "2f7099da-0c0a-4e5a-edef-0960b98888cc"
      },
      "outputs": [
        {
          "name": "stdout",
          "output_type": "stream",
          "text": [
            "160.0\n"
          ]
        }
      ],
      "source": [
        "#minimum number of votes required to be in the chart, m\n",
        "minimum_vote_requirement = metadata['vote_count'].quantile(0.90)\n",
        "print(minimum_vote_requirement)"
      ]
    },
    {
      "cell_type": "code",
      "execution_count": null,
      "id": "bc83c9f3",
      "metadata": {
        "id": "bc83c9f3",
        "outputId": "ae2d171f-fc36-482b-c94b-c807c5c0b54a"
      },
      "outputs": [
        {
          "data": {
            "text/plain": [
              "(4552, 24)"
            ]
          },
          "execution_count": 55,
          "metadata": {},
          "output_type": "execute_result"
        }
      ],
      "source": [
        "# Filter out all qualified movies into a new DataFrame\n",
        "qualified_movies = metadata.copy().loc[metadata['vote_count'] >= minimum_vote_requirement]\n",
        "qualified_movies.shape"
      ]
    },
    {
      "cell_type": "code",
      "execution_count": null,
      "id": "8dc65242",
      "metadata": {
        "id": "8dc65242",
        "outputId": "6286651a-e41a-4cb3-f5be-051f419ced2e"
      },
      "outputs": [
        {
          "data": {
            "text/plain": [
              "(45449, 24)"
            ]
          },
          "execution_count": 56,
          "metadata": {},
          "output_type": "execute_result"
        }
      ],
      "source": [
        "metadata.shape"
      ]
    },
    {
      "cell_type": "code",
      "execution_count": null,
      "id": "5b30faf5",
      "metadata": {
        "id": "5b30faf5"
      },
      "outputs": [],
      "source": [
        "# Function to computes the weighted rating of each movie\n",
        "def weighted_rating(x, minimum_vote_requirement=minimum_vote_requirement, vote_average_mean=vote_average_mean):\n",
        "    v = x['vote_count']\n",
        "    R = x['vote_average']\n",
        "    # Calculation based on the IMDB formula\n",
        "    return (v/(v+minimum_vote_requirement) * R) + (minimum_vote_requirement/(minimum_vote_requirement+v) * vote_average_mean)"
      ]
    },
    {
      "cell_type": "code",
      "execution_count": null,
      "id": "8296bc84",
      "metadata": {
        "id": "8296bc84"
      },
      "outputs": [],
      "source": [
        "\n",
        "qualified_movies['score'] = qualified_movies.apply(weighted_rating, axis=1)"
      ]
    },
    {
      "cell_type": "code",
      "execution_count": null,
      "id": "a02f0b92",
      "metadata": {
        "id": "a02f0b92",
        "outputId": "bb3d5a37-a56c-46d5-c096-b4baf808cc99"
      },
      "outputs": [
        {
          "data": {
            "text/html": [
              "<div>\n",
              "<style scoped>\n",
              "    .dataframe tbody tr th:only-of-type {\n",
              "        vertical-align: middle;\n",
              "    }\n",
              "\n",
              "    .dataframe tbody tr th {\n",
              "        vertical-align: top;\n",
              "    }\n",
              "\n",
              "    .dataframe thead th {\n",
              "        text-align: right;\n",
              "    }\n",
              "</style>\n",
              "<table border=\"1\" class=\"dataframe\">\n",
              "  <thead>\n",
              "    <tr style=\"text-align: right;\">\n",
              "      <th></th>\n",
              "      <th>title</th>\n",
              "      <th>vote_count</th>\n",
              "      <th>vote_average</th>\n",
              "      <th>score</th>\n",
              "    </tr>\n",
              "  </thead>\n",
              "  <tbody>\n",
              "    <tr>\n",
              "      <th>314</th>\n",
              "      <td>The Shawshank Redemption</td>\n",
              "      <td>8358.0</td>\n",
              "      <td>8.5</td>\n",
              "      <td>8.445871</td>\n",
              "    </tr>\n",
              "    <tr>\n",
              "      <th>834</th>\n",
              "      <td>The Godfather</td>\n",
              "      <td>6024.0</td>\n",
              "      <td>8.5</td>\n",
              "      <td>8.425441</td>\n",
              "    </tr>\n",
              "    <tr>\n",
              "      <th>10309</th>\n",
              "      <td>Dilwale Dulhania Le Jayenge</td>\n",
              "      <td>661.0</td>\n",
              "      <td>9.1</td>\n",
              "      <td>8.421473</td>\n",
              "    </tr>\n",
              "    <tr>\n",
              "      <th>12481</th>\n",
              "      <td>The Dark Knight</td>\n",
              "      <td>12269.0</td>\n",
              "      <td>8.3</td>\n",
              "      <td>8.265478</td>\n",
              "    </tr>\n",
              "    <tr>\n",
              "      <th>2843</th>\n",
              "      <td>Fight Club</td>\n",
              "      <td>9678.0</td>\n",
              "      <td>8.3</td>\n",
              "      <td>8.256386</td>\n",
              "    </tr>\n",
              "    <tr>\n",
              "      <th>292</th>\n",
              "      <td>Pulp Fiction</td>\n",
              "      <td>8670.0</td>\n",
              "      <td>8.3</td>\n",
              "      <td>8.251408</td>\n",
              "    </tr>\n",
              "    <tr>\n",
              "      <th>522</th>\n",
              "      <td>Schindler's List</td>\n",
              "      <td>4436.0</td>\n",
              "      <td>8.3</td>\n",
              "      <td>8.206643</td>\n",
              "    </tr>\n",
              "    <tr>\n",
              "      <th>23673</th>\n",
              "      <td>Whiplash</td>\n",
              "      <td>4376.0</td>\n",
              "      <td>8.3</td>\n",
              "      <td>8.205408</td>\n",
              "    </tr>\n",
              "    <tr>\n",
              "      <th>5481</th>\n",
              "      <td>Spirited Away</td>\n",
              "      <td>3968.0</td>\n",
              "      <td>8.3</td>\n",
              "      <td>8.196059</td>\n",
              "    </tr>\n",
              "    <tr>\n",
              "      <th>2211</th>\n",
              "      <td>Life Is Beautiful</td>\n",
              "      <td>3643.0</td>\n",
              "      <td>8.3</td>\n",
              "      <td>8.187176</td>\n",
              "    </tr>\n",
              "    <tr>\n",
              "      <th>1178</th>\n",
              "      <td>The Godfather: Part II</td>\n",
              "      <td>3418.0</td>\n",
              "      <td>8.3</td>\n",
              "      <td>8.180081</td>\n",
              "    </tr>\n",
              "    <tr>\n",
              "      <th>1152</th>\n",
              "      <td>One Flew Over the Cuckoo's Nest</td>\n",
              "      <td>3001.0</td>\n",
              "      <td>8.3</td>\n",
              "      <td>8.164261</td>\n",
              "    </tr>\n",
              "    <tr>\n",
              "      <th>351</th>\n",
              "      <td>Forrest Gump</td>\n",
              "      <td>8147.0</td>\n",
              "      <td>8.2</td>\n",
              "      <td>8.150274</td>\n",
              "    </tr>\n",
              "    <tr>\n",
              "      <th>1154</th>\n",
              "      <td>The Empire Strikes Back</td>\n",
              "      <td>5998.0</td>\n",
              "      <td>8.2</td>\n",
              "      <td>8.132921</td>\n",
              "    </tr>\n",
              "    <tr>\n",
              "      <th>1176</th>\n",
              "      <td>Psycho</td>\n",
              "      <td>2405.0</td>\n",
              "      <td>8.3</td>\n",
              "      <td>8.132721</td>\n",
              "    </tr>\n",
              "    <tr>\n",
              "      <th>18465</th>\n",
              "      <td>The Intouchables</td>\n",
              "      <td>5410.0</td>\n",
              "      <td>8.2</td>\n",
              "      <td>8.125840</td>\n",
              "    </tr>\n",
              "    <tr>\n",
              "      <th>40251</th>\n",
              "      <td>Your Name.</td>\n",
              "      <td>1030.0</td>\n",
              "      <td>8.5</td>\n",
              "      <td>8.112546</td>\n",
              "    </tr>\n",
              "    <tr>\n",
              "      <th>289</th>\n",
              "      <td>Leon: The Professional</td>\n",
              "      <td>4293.0</td>\n",
              "      <td>8.2</td>\n",
              "      <td>8.107238</td>\n",
              "    </tr>\n",
              "    <tr>\n",
              "      <th>3030</th>\n",
              "      <td>The Green Mile</td>\n",
              "      <td>4166.0</td>\n",
              "      <td>8.2</td>\n",
              "      <td>8.104515</td>\n",
              "    </tr>\n",
              "    <tr>\n",
              "      <th>1170</th>\n",
              "      <td>GoodFellas</td>\n",
              "      <td>3211.0</td>\n",
              "      <td>8.2</td>\n",
              "      <td>8.077464</td>\n",
              "    </tr>\n",
              "  </tbody>\n",
              "</table>\n",
              "</div>"
            ],
            "text/plain": [
              "                                 title  vote_count  vote_average     score\n",
              "314           The Shawshank Redemption      8358.0           8.5  8.445871\n",
              "834                      The Godfather      6024.0           8.5  8.425441\n",
              "10309      Dilwale Dulhania Le Jayenge       661.0           9.1  8.421473\n",
              "12481                  The Dark Knight     12269.0           8.3  8.265478\n",
              "2843                        Fight Club      9678.0           8.3  8.256386\n",
              "292                       Pulp Fiction      8670.0           8.3  8.251408\n",
              "522                   Schindler's List      4436.0           8.3  8.206643\n",
              "23673                         Whiplash      4376.0           8.3  8.205408\n",
              "5481                     Spirited Away      3968.0           8.3  8.196059\n",
              "2211                 Life Is Beautiful      3643.0           8.3  8.187176\n",
              "1178            The Godfather: Part II      3418.0           8.3  8.180081\n",
              "1152   One Flew Over the Cuckoo's Nest      3001.0           8.3  8.164261\n",
              "351                       Forrest Gump      8147.0           8.2  8.150274\n",
              "1154           The Empire Strikes Back      5998.0           8.2  8.132921\n",
              "1176                            Psycho      2405.0           8.3  8.132721\n",
              "18465                 The Intouchables      5410.0           8.2  8.125840\n",
              "40251                       Your Name.      1030.0           8.5  8.112546\n",
              "289             Leon: The Professional      4293.0           8.2  8.107238\n",
              "3030                    The Green Mile      4166.0           8.2  8.104515\n",
              "1170                        GoodFellas      3211.0           8.2  8.077464"
            ]
          },
          "execution_count": 59,
          "metadata": {},
          "output_type": "execute_result"
        }
      ],
      "source": [
        "#Sorting movies based on score calculated above\n",
        "qualified_movies = qualified_movies.sort_values('score', ascending=False)\n",
        "\n",
        "#top 15 movies\n",
        "qualified_movies[['title', 'vote_count', 'vote_average', 'score']].head(20)"
      ]
    },
    {
      "cell_type": "code",
      "execution_count": null,
      "id": "4dcf980b",
      "metadata": {
        "id": "4dcf980b",
        "outputId": "87a401a5-76c0-494f-fe9e-556a2ff6baf1"
      },
      "outputs": [
        {
          "data": {
            "text/plain": [
              "0    Led by Woody, Andy's toys live happily in his ...\n",
              "1    When siblings Judy and Peter discover an encha...\n",
              "2    A family wedding reignites the ancient feud be...\n",
              "3    Cheated on, mistreated and stepped on, the wom...\n",
              "4    Just when George Banks has recovered from his ...\n",
              "Name: overview, dtype: object"
            ]
          },
          "execution_count": 60,
          "metadata": {},
          "output_type": "execute_result"
        }
      ],
      "source": [
        "metadata['overview'].head()"
      ]
    },
    {
      "cell_type": "code",
      "execution_count": null,
      "id": "fa398638",
      "metadata": {
        "id": "fa398638",
        "outputId": "9d426f72-ffd7-47a0-fc6b-5c9d22a23bff"
      },
      "outputs": [
        {
          "data": {
            "text/plain": [
              "(45449, 75827)"
            ]
          },
          "execution_count": 61,
          "metadata": {},
          "output_type": "execute_result"
        }
      ],
      "source": [
        "from sklearn.feature_extraction.text import TfidfVectorizer\n",
        "\n",
        "#Define a TF-IDF Vectorizer Object. Remove all english stop words such as 'the', 'a'\n",
        "tfidf = TfidfVectorizer(stop_words='english')\n",
        "\n",
        "#Replace NaN with an empty string\n",
        "metadata['overview'] = metadata['overview'].fillna('')\n",
        "\n",
        "tfidf_matrix = tfidf.fit_transform(metadata['overview'])\n",
        "\n",
        "#shape of tfidf_matrix\n",
        "tfidf_matrix.shape"
      ]
    },
    {
      "cell_type": "code",
      "execution_count": null,
      "id": "7272cb1a",
      "metadata": {
        "id": "7272cb1a",
        "outputId": "8be8e536-fe5f-4d14-8b4b-aacc5f0c375a"
      },
      "outputs": [
        {
          "name": "stdout",
          "output_type": "stream",
          "text": [
            "['automobiles' 'automomy' 'automotive' 'autonomous' 'autonomy' 'autopilot'\n",
            " 'autopsies' 'autopsy' 'autopsying' 'autorickshaw']\n"
          ]
        }
      ],
      "source": [
        "tfidf = TfidfVectorizer()\n",
        "\n",
        "# Fit and transform your data\n",
        "tfidf_matrix = tfidf.fit_transform(metadata['overview'])\n",
        "\n",
        "# feature names\n",
        "feature_names = tfidf.get_feature_names_out()\n",
        "\n",
        "# subset of feature names\n",
        "print(feature_names[5000:5010])"
      ]
    },
    {
      "cell_type": "code",
      "execution_count": null,
      "id": "bb98a296",
      "metadata": {
        "id": "bb98a296"
      },
      "outputs": [],
      "source": [
        "import pandas as pd\n",
        "from sklearn.feature_extraction.text import TfidfVectorizer\n",
        "from sklearn.metrics.pairwise import linear_kernel\n",
        "import numpy as np\n",
        "\n",
        "metadata['overview'] = metadata['overview'].fillna('')  # Fill NaN values\n",
        "\n",
        "# TfidfVectorizer\n",
        "tfidf = TfidfVectorizer(stop_words='english')\n",
        "tfidf_matrix = tfidf.fit_transform(metadata['overview'])\n",
        "\n",
        "# Batch size\n",
        "batch_size = 100\n",
        "\n",
        "# Number of batches\n",
        "num_batches = int(np.ceil(metadata.shape[0] / batch_size))\n",
        "\n",
        "cosine_sim_agg = np.zeros((metadata.shape[0], metadata.shape[0]), dtype=np.float32)\n",
        "\n",
        "for i in range(num_batches):\n",
        "    start_idx = i * batch_size\n",
        "    end_idx = min((i + 1) * batch_size, metadata.shape[0])\n",
        "\n",
        "    # Transform the current batch\n",
        "    tfidf_matrix_batch = tfidf.transform(metadata['overview'].iloc[start_idx:end_idx])\n",
        "\n",
        "    #cosine similarity only for the relevant batch against the entire dataset\n",
        "    cosine_sim_batch = linear_kernel(tfidf_matrix_batch, tfidf_matrix)\n",
        "\n",
        "    # Updating the cosine similarity matrix\n",
        "    cosine_sim_agg[start_idx:end_idx, :] = cosine_sim_batch[:, :metadata.shape[0]]"
      ]
    },
    {
      "cell_type": "code",
      "execution_count": null,
      "id": "93b953a7",
      "metadata": {
        "id": "93b953a7",
        "outputId": "91597ca9-740c-4bf6-f46d-c408c58cd24f"
      },
      "outputs": [
        {
          "data": {
            "text/plain": [
              "(45449, 45449)"
            ]
          },
          "execution_count": 64,
          "metadata": {},
          "output_type": "execute_result"
        }
      ],
      "source": [
        "cosine_sim_agg.shape"
      ]
    },
    {
      "cell_type": "code",
      "execution_count": null,
      "id": "d7635289",
      "metadata": {
        "id": "d7635289",
        "outputId": "ba8d69e1-4e26-4bfe-b80e-995edb2162f5"
      },
      "outputs": [
        {
          "data": {
            "text/plain": [
              "array([0.01503898, 1.        , 0.0468085 , ..., 0.        , 0.02198308,\n",
              "       0.00929524], dtype=float32)"
            ]
          },
          "execution_count": 65,
          "metadata": {},
          "output_type": "execute_result"
        }
      ],
      "source": [
        "cosine_sim_agg[1]"
      ]
    },
    {
      "cell_type": "code",
      "execution_count": null,
      "id": "407ef770",
      "metadata": {
        "id": "407ef770"
      },
      "outputs": [],
      "source": [
        "indices = pd.Series(metadata.index, index=metadata['title']).drop_duplicates()"
      ]
    },
    {
      "cell_type": "code",
      "execution_count": null,
      "id": "03f2e40d",
      "metadata": {
        "id": "03f2e40d",
        "outputId": "25e86574-54c2-4877-bb68-37f0cd133870"
      },
      "outputs": [
        {
          "data": {
            "text/plain": [
              "title\n",
              "Toy Story                      0\n",
              "Jumanji                        1\n",
              "Grumpier Old Men               2\n",
              "Waiting to Exhale              3\n",
              "Father of the Bride Part II    4\n",
              "Heat                           5\n",
              "Sabrina                        6\n",
              "Tom and Huck                   7\n",
              "Sudden Death                   8\n",
              "GoldenEye                      9\n",
              "dtype: int64"
            ]
          },
          "execution_count": 67,
          "metadata": {},
          "output_type": "execute_result"
        }
      ],
      "source": [
        "indices[:10]"
      ]
    },
    {
      "cell_type": "code",
      "execution_count": null,
      "id": "be6ddac8",
      "metadata": {
        "id": "be6ddac8"
      },
      "outputs": [],
      "source": [
        "# Function that takes in movie title as input and outputs most similar movies\n",
        "def get_recommendations(title, cosine_sim_agg=cosine_sim_agg):\n",
        "    #index of the movie that matches the title\n",
        "    idx = indices[title]\n",
        "\n",
        "    #pairwsie similarity scores of all movies with that movie\n",
        "    sim_scores = list(enumerate(cosine_sim_agg[idx]))\n",
        "\n",
        "    # Sorting\n",
        "    sim_scores = sorted(sim_scores, key=lambda x: x[1], reverse=True)\n",
        "\n",
        "    #scores of the 10 most similar movies\n",
        "    sim_scores = sim_scores[1:11]\n",
        "\n",
        "    #movie indices\n",
        "    movie_indices = [i[0] for i in sim_scores]\n",
        "\n",
        "    #top 10 most similar movies\n",
        "    return metadata['title'].iloc[movie_indices]"
      ]
    },
    {
      "cell_type": "code",
      "execution_count": null,
      "id": "1b5a28de",
      "metadata": {
        "id": "1b5a28de",
        "outputId": "d2a0e76e-7e24-453c-cf7c-99f272adfb3b"
      },
      "outputs": [
        {
          "data": {
            "text/plain": [
              "34634                     A Reunion\n",
              "25248    Welcome, or No Trespassing\n",
              "26627              When a Man Falls\n",
              "34007         From Mexico With Love\n",
              "40128                     Casanegra\n",
              "25418                     Lap Dance\n",
              "19808              The Naughty Room\n",
              "9481                       Vibrator\n",
              "27547                         Coven\n",
              "24981           Winter in the Blood\n",
              "Name: title, dtype: object"
            ]
          },
          "execution_count": 69,
          "metadata": {},
          "output_type": "execute_result"
        }
      ],
      "source": [
        "get_recommendations('The Dark Knight Rises')"
      ]
    },
    {
      "cell_type": "code",
      "execution_count": null,
      "id": "e49a216c",
      "metadata": {
        "id": "e49a216c",
        "outputId": "a408d48e-53cc-49b5-f6e7-f5f61b06e8bf"
      },
      "outputs": [
        {
          "data": {
            "text/plain": [
              "1178               The Godfather: Part II\n",
              "44030    The Godfather Trilogy: 1972-1990\n",
              "1914              The Godfather: Part III\n",
              "23126                          Blood Ties\n",
              "11297                    Household Saints\n",
              "34717                   Start Liquidation\n",
              "10821                            Election\n",
              "38030            A Mother Should Be Loved\n",
              "17729                   Short Sharp Shock\n",
              "26293                  Beck 28 - Familjen\n",
              "Name: title, dtype: object"
            ]
          },
          "execution_count": 70,
          "metadata": {},
          "output_type": "execute_result"
        }
      ],
      "source": [
        "get_recommendations('The Godfather')"
      ]
    },
    {
      "cell_type": "code",
      "execution_count": null,
      "id": "70189123",
      "metadata": {
        "id": "70189123"
      },
      "outputs": [],
      "source": [
        "# Loading keywords and credits\n",
        "credits = pd.read_csv(r\"C:\\Users\\Lenovo\\Desktop\\Movie recomandation system\\credits.csv\")\n",
        "keywords = pd.read_csv(r\"C:\\Users\\Lenovo\\Desktop\\Movie recomandation system\\keywords.csv\")\n",
        "\n",
        "# Remove rows with bad IDs.\n",
        "metadata = metadata.drop([19730, 29503, 35587])\n",
        "\n",
        "#IDs to int. Required for merging\n",
        "keywords['id'] = keywords['id'].astype('int')\n",
        "credits['id'] = credits['id'].astype('int')\n",
        "metadata['id'] = metadata['id'].astype('int')\n",
        "\n",
        "# Merge keywords and credits\n",
        "metadata = metadata.merge(credits, on='id')\n",
        "metadata = metadata.merge(keywords, on='id')"
      ]
    },
    {
      "cell_type": "code",
      "execution_count": null,
      "id": "c7013c66",
      "metadata": {
        "id": "c7013c66",
        "outputId": "6f8d7a10-6381-44f6-86c4-d1e966b87a2e"
      },
      "outputs": [
        {
          "data": {
            "text/html": [
              "<div>\n",
              "<style scoped>\n",
              "    .dataframe tbody tr th:only-of-type {\n",
              "        vertical-align: middle;\n",
              "    }\n",
              "\n",
              "    .dataframe tbody tr th {\n",
              "        vertical-align: top;\n",
              "    }\n",
              "\n",
              "    .dataframe thead th {\n",
              "        text-align: right;\n",
              "    }\n",
              "</style>\n",
              "<table border=\"1\" class=\"dataframe\">\n",
              "  <thead>\n",
              "    <tr style=\"text-align: right;\">\n",
              "      <th></th>\n",
              "      <th>adult</th>\n",
              "      <th>belongs_to_collection</th>\n",
              "      <th>budget</th>\n",
              "      <th>genres</th>\n",
              "      <th>homepage</th>\n",
              "      <th>id</th>\n",
              "      <th>imdb_id</th>\n",
              "      <th>original_language</th>\n",
              "      <th>original_title</th>\n",
              "      <th>overview</th>\n",
              "      <th>popularity</th>\n",
              "      <th>poster_path</th>\n",
              "      <th>production_companies</th>\n",
              "      <th>production_countries</th>\n",
              "      <th>release_date</th>\n",
              "      <th>revenue</th>\n",
              "      <th>runtime</th>\n",
              "      <th>spoken_languages</th>\n",
              "      <th>status</th>\n",
              "      <th>tagline</th>\n",
              "      <th>title</th>\n",
              "      <th>video</th>\n",
              "      <th>vote_average</th>\n",
              "      <th>vote_count</th>\n",
              "      <th>cast</th>\n",
              "      <th>crew</th>\n",
              "      <th>keywords</th>\n",
              "    </tr>\n",
              "  </thead>\n",
              "  <tbody>\n",
              "    <tr>\n",
              "      <th>0</th>\n",
              "      <td>False</td>\n",
              "      <td>{'id': 10194, 'name': 'Toy Story Collection', ...</td>\n",
              "      <td>30000000</td>\n",
              "      <td>[{'id': 16, 'name': 'Animation'}, {'id': 35, '...</td>\n",
              "      <td>http://toystory.disney.com/toy-story</td>\n",
              "      <td>862</td>\n",
              "      <td>tt0114709</td>\n",
              "      <td>en</td>\n",
              "      <td>Toy Story</td>\n",
              "      <td>Led by Woody, Andy's toys live happily in his ...</td>\n",
              "      <td>21.946943</td>\n",
              "      <td>/rhIRbceoE9lR4veEXuwCC2wARtG.jpg</td>\n",
              "      <td>[{'name': 'Pixar Animation Studios', 'id': 3}]</td>\n",
              "      <td>[{'iso_3166_1': 'US', 'name': 'United States o...</td>\n",
              "      <td>1995-10-30</td>\n",
              "      <td>373554033.0</td>\n",
              "      <td>81.0</td>\n",
              "      <td>[{'iso_639_1': 'en', 'name': 'English'}]</td>\n",
              "      <td>Released</td>\n",
              "      <td>NaN</td>\n",
              "      <td>Toy Story</td>\n",
              "      <td>False</td>\n",
              "      <td>7.7</td>\n",
              "      <td>5415.0</td>\n",
              "      <td>[{'cast_id': 14, 'character': 'Woody (voice)',...</td>\n",
              "      <td>[{'credit_id': '52fe4284c3a36847f8024f49', 'de...</td>\n",
              "      <td>[{'id': 931, 'name': 'jealousy'}, {'id': 4290,...</td>\n",
              "    </tr>\n",
              "    <tr>\n",
              "      <th>1</th>\n",
              "      <td>False</td>\n",
              "      <td>NaN</td>\n",
              "      <td>65000000</td>\n",
              "      <td>[{'id': 12, 'name': 'Adventure'}, {'id': 14, '...</td>\n",
              "      <td>NaN</td>\n",
              "      <td>8844</td>\n",
              "      <td>tt0113497</td>\n",
              "      <td>en</td>\n",
              "      <td>Jumanji</td>\n",
              "      <td>When siblings Judy and Peter discover an encha...</td>\n",
              "      <td>17.015539</td>\n",
              "      <td>/vzmL6fP7aPKNKPRTFnZmiUfciyV.jpg</td>\n",
              "      <td>[{'name': 'TriStar Pictures', 'id': 559}, {'na...</td>\n",
              "      <td>[{'iso_3166_1': 'US', 'name': 'United States o...</td>\n",
              "      <td>1995-12-15</td>\n",
              "      <td>262797249.0</td>\n",
              "      <td>104.0</td>\n",
              "      <td>[{'iso_639_1': 'en', 'name': 'English'}, {'iso...</td>\n",
              "      <td>Released</td>\n",
              "      <td>Roll the dice and unleash the excitement!</td>\n",
              "      <td>Jumanji</td>\n",
              "      <td>False</td>\n",
              "      <td>6.9</td>\n",
              "      <td>2413.0</td>\n",
              "      <td>[{'cast_id': 1, 'character': 'Alan Parrish', '...</td>\n",
              "      <td>[{'credit_id': '52fe44bfc3a36847f80a7cd1', 'de...</td>\n",
              "      <td>[{'id': 10090, 'name': 'board game'}, {'id': 1...</td>\n",
              "    </tr>\n",
              "  </tbody>\n",
              "</table>\n",
              "</div>"
            ],
            "text/plain": [
              "   adult                              belongs_to_collection    budget  \\\n",
              "0  False  {'id': 10194, 'name': 'Toy Story Collection', ...  30000000   \n",
              "1  False                                                NaN  65000000   \n",
              "\n",
              "                                              genres  \\\n",
              "0  [{'id': 16, 'name': 'Animation'}, {'id': 35, '...   \n",
              "1  [{'id': 12, 'name': 'Adventure'}, {'id': 14, '...   \n",
              "\n",
              "                               homepage    id    imdb_id original_language  \\\n",
              "0  http://toystory.disney.com/toy-story   862  tt0114709                en   \n",
              "1                                   NaN  8844  tt0113497                en   \n",
              "\n",
              "  original_title                                           overview  \\\n",
              "0      Toy Story  Led by Woody, Andy's toys live happily in his ...   \n",
              "1        Jumanji  When siblings Judy and Peter discover an encha...   \n",
              "\n",
              "  popularity                       poster_path  \\\n",
              "0  21.946943  /rhIRbceoE9lR4veEXuwCC2wARtG.jpg   \n",
              "1  17.015539  /vzmL6fP7aPKNKPRTFnZmiUfciyV.jpg   \n",
              "\n",
              "                                production_companies  \\\n",
              "0     [{'name': 'Pixar Animation Studios', 'id': 3}]   \n",
              "1  [{'name': 'TriStar Pictures', 'id': 559}, {'na...   \n",
              "\n",
              "                                production_countries release_date  \\\n",
              "0  [{'iso_3166_1': 'US', 'name': 'United States o...   1995-10-30   \n",
              "1  [{'iso_3166_1': 'US', 'name': 'United States o...   1995-12-15   \n",
              "\n",
              "       revenue  runtime                                   spoken_languages  \\\n",
              "0  373554033.0     81.0           [{'iso_639_1': 'en', 'name': 'English'}]   \n",
              "1  262797249.0    104.0  [{'iso_639_1': 'en', 'name': 'English'}, {'iso...   \n",
              "\n",
              "     status                                    tagline      title  video  \\\n",
              "0  Released                                        NaN  Toy Story  False   \n",
              "1  Released  Roll the dice and unleash the excitement!    Jumanji  False   \n",
              "\n",
              "   vote_average  vote_count  \\\n",
              "0           7.7      5415.0   \n",
              "1           6.9      2413.0   \n",
              "\n",
              "                                                cast  \\\n",
              "0  [{'cast_id': 14, 'character': 'Woody (voice)',...   \n",
              "1  [{'cast_id': 1, 'character': 'Alan Parrish', '...   \n",
              "\n",
              "                                                crew  \\\n",
              "0  [{'credit_id': '52fe4284c3a36847f8024f49', 'de...   \n",
              "1  [{'credit_id': '52fe44bfc3a36847f80a7cd1', 'de...   \n",
              "\n",
              "                                            keywords  \n",
              "0  [{'id': 931, 'name': 'jealousy'}, {'id': 4290,...  \n",
              "1  [{'id': 10090, 'name': 'board game'}, {'id': 1...  "
            ]
          },
          "execution_count": 72,
          "metadata": {},
          "output_type": "execute_result"
        }
      ],
      "source": [
        "metadata.head(2)"
      ]
    },
    {
      "cell_type": "code",
      "execution_count": null,
      "id": "082312ea",
      "metadata": {
        "id": "082312ea"
      },
      "outputs": [],
      "source": [
        "from ast import literal_eval\n",
        "\n",
        "features = ['cast', 'crew', 'keywords', 'genres']\n",
        "for feature in features:\n",
        "    metadata[feature] = metadata[feature].apply(literal_eval)"
      ]
    },
    {
      "cell_type": "code",
      "execution_count": null,
      "id": "3eacebf4",
      "metadata": {
        "id": "3eacebf4"
      },
      "outputs": [],
      "source": [
        "# Import Numpy\n",
        "import numpy as np\n",
        "def get_director(x):\n",
        "    for i in x:\n",
        "        if i['job'] == 'Director':\n",
        "            return i['name']\n",
        "    return np.nan"
      ]
    },
    {
      "cell_type": "code",
      "execution_count": null,
      "id": "5d83d07c",
      "metadata": {
        "id": "5d83d07c"
      },
      "outputs": [],
      "source": [
        "def get_list(x):\n",
        "    if isinstance(x, list):\n",
        "        names = [i['name'] for i in x]\n",
        "        #Check if more than 3 elements exist. If yes, return only first three. If no, return entire list.\n",
        "        if len(names) > 3:\n",
        "            names = names[:3]\n",
        "        return names\n",
        "\n",
        "    #Return empty list in case of missing/malformed data\n",
        "    return []"
      ]
    },
    {
      "cell_type": "code",
      "execution_count": null,
      "id": "df2c3467",
      "metadata": {
        "id": "df2c3467"
      },
      "outputs": [],
      "source": [
        "metadata['director'] = metadata['crew'].apply(get_director)\n",
        "\n",
        "features = ['cast', 'keywords', 'genres']\n",
        "for feature in features:\n",
        "    metadata[feature] = metadata[feature].apply(get_list)"
      ]
    },
    {
      "cell_type": "code",
      "execution_count": null,
      "id": "497031ee",
      "metadata": {
        "id": "497031ee",
        "outputId": "49b7376c-139b-4884-d26a-0ee5f2abfd80"
      },
      "outputs": [
        {
          "data": {
            "text/html": [
              "<div>\n",
              "<style scoped>\n",
              "    .dataframe tbody tr th:only-of-type {\n",
              "        vertical-align: middle;\n",
              "    }\n",
              "\n",
              "    .dataframe tbody tr th {\n",
              "        vertical-align: top;\n",
              "    }\n",
              "\n",
              "    .dataframe thead th {\n",
              "        text-align: right;\n",
              "    }\n",
              "</style>\n",
              "<table border=\"1\" class=\"dataframe\">\n",
              "  <thead>\n",
              "    <tr style=\"text-align: right;\">\n",
              "      <th></th>\n",
              "      <th>title</th>\n",
              "      <th>cast</th>\n",
              "      <th>director</th>\n",
              "      <th>keywords</th>\n",
              "      <th>genres</th>\n",
              "    </tr>\n",
              "  </thead>\n",
              "  <tbody>\n",
              "    <tr>\n",
              "      <th>0</th>\n",
              "      <td>Toy Story</td>\n",
              "      <td>[Tom Hanks, Tim Allen, Don Rickles]</td>\n",
              "      <td>John Lasseter</td>\n",
              "      <td>[jealousy, toy, boy]</td>\n",
              "      <td>[Animation, Comedy, Family]</td>\n",
              "    </tr>\n",
              "    <tr>\n",
              "      <th>1</th>\n",
              "      <td>Jumanji</td>\n",
              "      <td>[Robin Williams, Jonathan Hyde, Kirsten Dunst]</td>\n",
              "      <td>Joe Johnston</td>\n",
              "      <td>[board game, disappearance, based on children'...</td>\n",
              "      <td>[Adventure, Fantasy, Family]</td>\n",
              "    </tr>\n",
              "    <tr>\n",
              "      <th>2</th>\n",
              "      <td>Grumpier Old Men</td>\n",
              "      <td>[Walter Matthau, Jack Lemmon, Ann-Margret]</td>\n",
              "      <td>Howard Deutch</td>\n",
              "      <td>[fishing, best friend, duringcreditsstinger]</td>\n",
              "      <td>[Romance, Comedy]</td>\n",
              "    </tr>\n",
              "  </tbody>\n",
              "</table>\n",
              "</div>"
            ],
            "text/plain": [
              "              title                                            cast  \\\n",
              "0         Toy Story             [Tom Hanks, Tim Allen, Don Rickles]   \n",
              "1           Jumanji  [Robin Williams, Jonathan Hyde, Kirsten Dunst]   \n",
              "2  Grumpier Old Men      [Walter Matthau, Jack Lemmon, Ann-Margret]   \n",
              "\n",
              "        director                                           keywords  \\\n",
              "0  John Lasseter                               [jealousy, toy, boy]   \n",
              "1   Joe Johnston  [board game, disappearance, based on children'...   \n",
              "2  Howard Deutch       [fishing, best friend, duringcreditsstinger]   \n",
              "\n",
              "                         genres  \n",
              "0   [Animation, Comedy, Family]  \n",
              "1  [Adventure, Fantasy, Family]  \n",
              "2             [Romance, Comedy]  "
            ]
          },
          "execution_count": 77,
          "metadata": {},
          "output_type": "execute_result"
        }
      ],
      "source": [
        "metadata[['title', 'cast', 'director', 'keywords', 'genres']].head(3)"
      ]
    },
    {
      "cell_type": "code",
      "execution_count": null,
      "id": "bc9764ae",
      "metadata": {
        "id": "bc9764ae"
      },
      "outputs": [],
      "source": [
        "# Function to convert all strings to lower case and strip names of spaces\n",
        "def clean_data(x):\n",
        "    if isinstance(x, list):\n",
        "        return [str.lower(i.replace(\" \", \"\")) for i in x]\n",
        "    else:\n",
        "        #Check if director exists. If not, return empty string\n",
        "        if isinstance(x, str):\n",
        "            return str.lower(x.replace(\" \", \"\"))\n",
        "        else:\n",
        "            return ''"
      ]
    },
    {
      "cell_type": "code",
      "execution_count": null,
      "id": "2a4afa29",
      "metadata": {
        "id": "2a4afa29"
      },
      "outputs": [],
      "source": [
        "# Apply clean_data function to your features.\n",
        "features = ['cast', 'keywords', 'director', 'genres']\n",
        "\n",
        "for feature in features:\n",
        "    metadata[feature] = metadata[feature].apply(clean_data)"
      ]
    },
    {
      "cell_type": "code",
      "execution_count": null,
      "id": "5c741a35",
      "metadata": {
        "id": "5c741a35"
      },
      "outputs": [],
      "source": [
        "def create_soup(x):\n",
        "    return ' '.join(x['keywords']) + ' ' + ' '.join(x['cast']) + ' ' + x['director'] + ' ' + ' '.join(x['genres'])"
      ]
    },
    {
      "cell_type": "code",
      "execution_count": null,
      "id": "34b48289",
      "metadata": {
        "id": "34b48289"
      },
      "outputs": [],
      "source": [
        "# Creating a new soup feature\n",
        "metadata['soup'] = metadata.apply(create_soup, axis=1)"
      ]
    },
    {
      "cell_type": "code",
      "execution_count": null,
      "id": "757ce952",
      "metadata": {
        "id": "757ce952",
        "outputId": "5b90ed18-95db-4dc5-d107-ce740b3c740f"
      },
      "outputs": [
        {
          "data": {
            "text/html": [
              "<div>\n",
              "<style scoped>\n",
              "    .dataframe tbody tr th:only-of-type {\n",
              "        vertical-align: middle;\n",
              "    }\n",
              "\n",
              "    .dataframe tbody tr th {\n",
              "        vertical-align: top;\n",
              "    }\n",
              "\n",
              "    .dataframe thead th {\n",
              "        text-align: right;\n",
              "    }\n",
              "</style>\n",
              "<table border=\"1\" class=\"dataframe\">\n",
              "  <thead>\n",
              "    <tr style=\"text-align: right;\">\n",
              "      <th></th>\n",
              "      <th>soup</th>\n",
              "    </tr>\n",
              "  </thead>\n",
              "  <tbody>\n",
              "    <tr>\n",
              "      <th>0</th>\n",
              "      <td>jealousy toy boy tomhanks timallen donrickles ...</td>\n",
              "    </tr>\n",
              "    <tr>\n",
              "      <th>1</th>\n",
              "      <td>boardgame disappearance basedonchildren'sbook ...</td>\n",
              "    </tr>\n",
              "  </tbody>\n",
              "</table>\n",
              "</div>"
            ],
            "text/plain": [
              "                                                soup\n",
              "0  jealousy toy boy tomhanks timallen donrickles ...\n",
              "1  boardgame disappearance basedonchildren'sbook ..."
            ]
          },
          "execution_count": 82,
          "metadata": {},
          "output_type": "execute_result"
        }
      ],
      "source": [
        "metadata[['soup']].head(2)"
      ]
    },
    {
      "cell_type": "code",
      "execution_count": null,
      "id": "a5e3cf95",
      "metadata": {
        "id": "a5e3cf95"
      },
      "outputs": [],
      "source": [
        "from sklearn.feature_extraction.text import CountVectorizer\n",
        "\n",
        "count = CountVectorizer(stop_words='english')\n",
        "count_matrix = count.fit_transform(metadata['soup'])"
      ]
    },
    {
      "cell_type": "code",
      "execution_count": null,
      "id": "c1bb6f10",
      "metadata": {
        "id": "c1bb6f10",
        "outputId": "44811862-c6c4-4537-c6bd-03ce8999f28f"
      },
      "outputs": [
        {
          "data": {
            "text/plain": [
              "(46548, 73881)"
            ]
          },
          "execution_count": 84,
          "metadata": {},
          "output_type": "execute_result"
        }
      ],
      "source": [
        "count_matrix.shape"
      ]
    },
    {
      "cell_type": "code",
      "execution_count": null,
      "id": "1abfff3e",
      "metadata": {
        "id": "1abfff3e"
      },
      "outputs": [],
      "source": []
    }
  ],
  "metadata": {
    "kernelspec": {
      "display_name": "Python 3 (ipykernel)",
      "language": "python",
      "name": "python3"
    },
    "language_info": {
      "codemirror_mode": {
        "name": "ipython",
        "version": 3
      },
      "file_extension": ".py",
      "mimetype": "text/x-python",
      "name": "python",
      "nbconvert_exporter": "python",
      "pygments_lexer": "ipython3",
      "version": "3.10.9"
    },
    "colab": {
      "provenance": [],
      "include_colab_link": true
    }
  },
  "nbformat": 4,
  "nbformat_minor": 5
}